{
 "cells": [
  {
   "cell_type": "markdown",
   "id": "9a5ddc78",
   "metadata": {},
   "source": [
    "## NNs"
   ]
  },
  {
   "cell_type": "markdown",
   "id": "16a65712",
   "metadata": {},
   "source": [
    "Feed-forward networks:\n",
    "- Single-layer perceptrons\n",
    "- Multi-layer perceptrons\n",
    "\n",
    "Recurrent networks:\n",
    "- Recurrent neural nets have directed cycles with delays\n",
    "    - Have internal states (like flip-flops), can oscillate etc."
   ]
  },
  {
   "cell_type": "markdown",
   "id": "6a051214",
   "metadata": {},
   "source": [
    "Feed-forward network = a parameterized family of non-linear functions"
   ]
  },
  {
   "cell_type": "markdown",
   "id": "7b6cbbfd",
   "metadata": {},
   "source": [
    "## Recurrent NNs\n",
    "\n",
    "- Feed-forward NN: ConvolutionalNN -> Image\n",
    "- RecurrentNN: RNN(LSTM/GRU) -> text\n",
    "\n",
    "LSTM: Long Short Term Memory"
   ]
  },
  {
   "cell_type": "markdown",
   "id": "03f8190a",
   "metadata": {},
   "source": [
    "## Sigmoid vs Softmax\n",
    "\n",
    "Scale value back to $[0..1]$, but using softmax for selection (zero or one only)"
   ]
  },
  {
   "cell_type": "markdown",
   "id": "3b0c5ed2",
   "metadata": {},
   "source": [
    "## One-hot encoding\n",
    "\n",
    "Vector's dimension = vocabulary size"
   ]
  },
  {
   "cell_type": "markdown",
   "id": "255d7c48",
   "metadata": {},
   "source": [
    "## Sparse vector\n",
    "\n",
    "Convert original vocabulary to 0-1 vector"
   ]
  }
 ],
 "metadata": {
  "kernelspec": {
   "display_name": "Python 3 (ipykernel)",
   "language": "python",
   "name": "python3"
  },
  "language_info": {
   "codemirror_mode": {
    "name": "ipython",
    "version": 3
   },
   "file_extension": ".py",
   "mimetype": "text/x-python",
   "name": "python",
   "nbconvert_exporter": "python",
   "pygments_lexer": "ipython3",
   "version": "3.9.7"
  }
 },
 "nbformat": 4,
 "nbformat_minor": 5
}
