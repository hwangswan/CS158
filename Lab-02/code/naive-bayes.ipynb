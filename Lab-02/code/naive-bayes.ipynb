{
 "cells": [
  {
   "cell_type": "markdown",
   "metadata": {},
   "source": [
    "# Vẫn là Naive Bayes, nhưng dùng sklearn!"
   ]
  },
  {
   "cell_type": "code",
   "execution_count": 1,
   "metadata": {},
   "outputs": [],
   "source": [
    "from sklearn.feature_extraction.text import TfidfVectorizer\n",
    "from sklearn.naive_bayes import MultinomialNB, BernoulliNB\n",
    "from sklearn.metrics import accuracy_score, classification_report, confusion_matrix\n",
    "\n",
    "import seaborn as sns\n",
    "import re, string\n",
    "import matplotlib.pyplot as plt\n",
    "import numpy as np"
   ]
  },
  {
   "cell_type": "code",
   "execution_count": 2,
   "metadata": {},
   "outputs": [],
   "source": [
    "def parsing(sentence : str) -> tuple:\n",
    "    sentence_class = int(sentence[0].strip())\n",
    "    sentence = sentence[1:].strip()\n",
    "\n",
    "    punctuations = '[{0}]'.format(string.punctuation)\n",
    "\n",
    "    sentence = sentence.lower()\n",
    "    sentence = re.sub('\\w*\\d\\w*', '', sentence)\n",
    "    sentence = re.sub(punctuations, '', sentence)\n",
    "\n",
    "    return (sentence, sentence_class)"
   ]
  },
  {
   "cell_type": "code",
   "execution_count": 3,
   "metadata": {},
   "outputs": [],
   "source": [
    "with open('data/TREC.train.all', 'r+') as f:\n",
    "    train_sentences, train_classes = [], []\n",
    "    for line in f.readlines():\n",
    "        sentence, sentence_class = parsing(line.strip().lower())\n",
    "        train_sentences.append(sentence)\n",
    "        train_classes.append(sentence_class)\n",
    "\n",
    "\n",
    "with open('data/TREC.test.all', 'r+') as f:\n",
    "    test_sentences, test_classes = [], []\n",
    "    for line in f.readlines():\n",
    "        sentence, sentence_class = parsing(line.lower().strip())\n",
    "        test_sentences.append(sentence)\n",
    "        test_classes.append(sentence_class)"
   ]
  },
  {
   "cell_type": "code",
   "execution_count": 4,
   "metadata": {},
   "outputs": [
    {
     "name": "stdout",
     "output_type": "stream",
     "text": [
      "5452 5452\n",
      "500 500\n"
     ]
    }
   ],
   "source": [
    "print(len(train_sentences), len(train_classes))\n",
    "print(len(test_sentences), len(test_classes))"
   ]
  },
  {
   "cell_type": "code",
   "execution_count": 5,
   "metadata": {},
   "outputs": [],
   "source": [
    "vectorizer = TfidfVectorizer()\n",
    "Xvector_train = vectorizer.fit_transform(train_sentences)\n",
    "\n",
    "Xvector_test = vectorizer.transform(test_sentences)"
   ]
  },
  {
   "cell_type": "markdown",
   "metadata": {},
   "source": [
    "## Multinomial NB"
   ]
  },
  {
   "cell_type": "code",
   "execution_count": 6,
   "metadata": {},
   "outputs": [
    {
     "data": {
      "text/plain": [
       "MultinomialNB()"
      ]
     },
     "execution_count": 6,
     "metadata": {},
     "output_type": "execute_result"
    }
   ],
   "source": [
    "multinomial_nb_model = MultinomialNB()\n",
    "multinomial_nb_model.fit(Xvector_train, train_classes)"
   ]
  },
  {
   "cell_type": "code",
   "execution_count": 7,
   "metadata": {},
   "outputs": [
    {
     "data": {
      "text/plain": [
       "0.768"
      ]
     },
     "execution_count": 7,
     "metadata": {},
     "output_type": "execute_result"
    }
   ],
   "source": [
    "multinomial_nb_model.score(Xvector_test, test_classes)"
   ]
  },
  {
   "cell_type": "code",
   "execution_count": 8,
   "metadata": {},
   "outputs": [
    {
     "name": "stdout",
     "output_type": "stream",
     "text": [
      "              precision    recall  f1-score   support\n",
      "\n",
      "           0       0.77      0.79      0.78       138\n",
      "           1       0.58      0.66      0.62        94\n",
      "           2       0.00      0.00      0.00         9\n",
      "           3       0.68      1.00      0.81        65\n",
      "           4       0.88      0.74      0.81        81\n",
      "           5       0.98      0.78      0.87       113\n",
      "\n",
      "    accuracy                           0.77       500\n",
      "   macro avg       0.65      0.66      0.65       500\n",
      "weighted avg       0.78      0.77      0.76       500\n",
      "\n"
     ]
    }
   ],
   "source": [
    "predicted_multinomial_nb = multinomial_nb_model.predict(Xvector_test)\n",
    "print(classification_report(test_classes, predicted_multinomial_nb, zero_division = 0))"
   ]
  },
  {
   "cell_type": "code",
   "execution_count": 9,
   "metadata": {},
   "outputs": [
    {
     "data": {
      "image/png": "[encoded data removed]",
      "text/plain": [
       "<Figure size 432x288 with 2 Axes>"
      ]
     },
     "metadata": {
      "needs_background": "light"
     },
     "output_type": "display_data"
    }
   ],
   "source": [
    "nb_cm = confusion_matrix(test_classes, predicted_multinomial_nb)\n",
    "sns.heatmap(nb_cm, annot = True)\n",
    "plt.show()"
   ]
  },
  {
   "cell_type": "code",
   "execution_count": 10,
   "metadata": {},
   "outputs": [
    {
     "name": "stdout",
     "output_type": "stream",
     "text": [
      "0.768\n"
     ]
    }
   ],
   "source": [
    "print(accuracy_score(test_classes, predicted_multinomial_nb))"
   ]
  },
  {
   "cell_type": "markdown",
   "metadata": {},
   "source": [
    "## Bernoulli NB"
   ]
  },
  {
   "cell_type": "code",
   "execution_count": 11,
   "metadata": {},
   "outputs": [
    {
     "data": {
      "text/plain": [
       "BernoulliNB()"
      ]
     },
     "execution_count": 11,
     "metadata": {},
     "output_type": "execute_result"
    }
   ],
   "source": [
    "bernoulli_nb_model = BernoulliNB()\n",
    "bernoulli_nb_model.fit(Xvector_train, train_classes)"
   ]
  },
  {
   "cell_type": "code",
   "execution_count": 12,
   "metadata": {},
   "outputs": [
    {
     "name": "stdout",
     "output_type": "stream",
     "text": [
      "              precision    recall  f1-score   support\n",
      "\n",
      "           0       0.96      0.63      0.76       210\n",
      "           1       0.66      0.54      0.59       115\n",
      "           2       0.00      0.00      0.00         0\n",
      "           3       0.89      0.73      0.81        79\n",
      "           4       0.54      0.90      0.68        49\n",
      "           5       0.41      0.98      0.57        47\n",
      "\n",
      "    accuracy                           0.69       500\n",
      "   macro avg       0.58      0.63      0.57       500\n",
      "weighted avg       0.79      0.69      0.71       500\n",
      "\n"
     ]
    }
   ],
   "source": [
    "predicted_bernoulli_nb = bernoulli_nb_model.predict(Xvector_test)\n",
    "print(classification_report(predicted_bernoulli_nb, test_classes, zero_division = 0))"
   ]
  },
  {
   "cell_type": "code",
   "execution_count": 13,
   "metadata": {},
   "outputs": [
    {
     "data": {
      "image/png": "[encoded data removed]",
      "text/plain": [
       "<Figure size 432x288 with 2 Axes>"
      ]
     },
     "metadata": {
      "needs_background": "light"
     },
     "output_type": "display_data"
    }
   ],
   "source": [
    "bernoulli_nb_cm = confusion_matrix(test_classes, predicted_bernoulli_nb)\n",
    "sns.heatmap(bernoulli_nb_cm, annot = True)\n",
    "plt.show()"
   ]
  },
  {
   "cell_type": "code",
   "execution_count": 14,
   "metadata": {},
   "outputs": [
    {
     "name": "stdout",
     "output_type": "stream",
     "text": [
      "0.686\n"
     ]
    }
   ],
   "source": [
    "print(accuracy_score(predicted_bernoulli_nb, test_classes))"
   ]
  }
 ],
 "metadata": {
  "interpreter": {
   "hash": "0a67b383376bbc3f268150e8a766376259116456469e7f7cea52e2e925b8a72d"
  },
  "kernelspec": {
   "display_name": "Python 3.9.7 64-bit",
   "language": "python",
   "name": "python3"
  },
  "language_info": {
   "codemirror_mode": {
    "name": "ipython",
    "version": 3
   },
   "file_extension": ".py",
   "mimetype": "text/x-python",
   "name": "python",
   "nbconvert_exporter": "python",
   "pygments_lexer": "ipython3",
   "version": "3.9.7"
  },
  "orig_nbformat": 4
 },
 "nbformat": 4,
 "nbformat_minor": 2
}
