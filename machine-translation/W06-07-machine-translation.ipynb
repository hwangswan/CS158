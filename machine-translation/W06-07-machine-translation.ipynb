{
 "cells": [
  {
   "cell_type": "markdown",
   "metadata": {},
   "source": [
    "# Dịch máy - Machine Translation"
   ]
  },
  {
   "cell_type": "markdown",
   "metadata": {},
   "source": [
    "## Mô hình dịch dựa trên từ\n",
    "\n",
    "- Dịch từ vựng (Lexical Translation)\n",
    "    - Dịch từ riêng biệt\n",
    "    - Đa bản dịch (Multiple Translations)\n",
    "\n",
    "- Thu thập thống kê (Collect Statistics)\n",
    "- Ước lượng xác suất dịch (Estimate Translation Probabilities)\n",
    "    - Ước lượng khả năng tối đa (Maximum likelihood estimation)\n",
    "\n",
    "- Gióng hàng: gióng hàng những từ trong ngôn ngữ này với những từ đồng nghĩa trong ngôn ngữ kia\n",
    "- Hàm giống hàng: hình thức hóa việc gióng hàng\n",
    "\n",
    "- IBM Model 1: mô hình sinh\n",
    "\n",
    "### Mô hình học Lexical Translation\n",
    "- Thuật toán EM (Expectation Maximization Algorithm):\n",
    "    - Khởi tạo các xác suất gióng hàng bằng nhau (Uniform)\n",
    "    - Sau $n$ vòng lặp, các gióng hàng có xác suất hội tụ (có nhiều khả năng là từ đồng nhĩa).\n",
    "    - Gồm 2 bước:\n",
    "        - Expectation: ứng dụng mô hình vào dữ liệu\n",
    "        - Maximization: Ước lượng mô hình từ dữ liệu\n"
   ]
  },
  {
   "cell_type": "markdown",
   "metadata": {},
   "source": [
    "## Mô hình học dựa trên ngữ\n",
    "- Bảng dịch ngữ (Phrase Translation Table)\n",
    "- Sự nhất quán: tất cả các từ của cặp ngữ phải gióng hàng lẫn nhau\n"
   ]
  },
  {
   "cell_type": "markdown",
   "metadata": {},
   "source": [
    "## Đánh giá chất lượng dịch\n",
    "- Chỉ số đánh giá tự động (Automatic Evaluation Metrics)\n",
    "- Precision và Recall của từ\n",
    "    - Precision: $\\frac{C}{|O|}$ với $C$ là số từ đúng, $O$ là câu output.\n",
    "    - Recall: $\\frac{C}{|R|}$ với $C$ là số từ đúng, $R$ là câu đúng (target / reference).\n",
    "\n",
    "- Tỉ lệ lỗi từ (Word Error Rate): số bước ít nhất để biến output (bản dịch máy) thành reference (câu đúng - bản dịch của con người).\n",
    "- BLEU (Bilingual Language Evaluation Understudy): $n$-gram chồng nhau giữa bản dịch của máy và bản dịch của người.\n",
    "$$\n",
    "\\text{BLEU} = \\min\\left(1, \\frac{\\text{output-length}}{\\text{reference-length}}\\right)\\left(\\prod_{i = 1}^{4}\\text{precision}_i^{\\frac{1}{4}}\\right)\n",
    "$$\n",
    "- Nhiều bản dịch tham khảo: xài nhiều bản dịch tham khảo để tăng accuracy.\n",
    "- METEOR: flexible matching aka cho điểm 1 phần với các từ khớp / từ đồng nghĩa. "
   ]
  }
 ],
 "metadata": {
  "kernelspec": {
   "display_name": "Python 3 (ipykernel)",
   "language": "python",
   "name": "python3"
  },
  "language_info": {
   "codemirror_mode": {
    "name": "ipython",
    "version": 3
   },
   "file_extension": ".py",
   "mimetype": "text/x-python",
   "name": "python",
   "nbconvert_exporter": "python",
   "pygments_lexer": "ipython3",
   "version": "3.9.7"
  }
 },
 "nbformat": 4,
 "nbformat_minor": 2
}
