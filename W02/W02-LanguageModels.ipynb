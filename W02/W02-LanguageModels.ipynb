{
 "cells": [
  {
   "cell_type": "markdown",
   "id": "486bac8c",
   "metadata": {},
   "source": [
    "(W01 là giới thiệu môn học)\n",
    "\n",
    "# Giới thiệu n-gram\n",
    "\n",
    "Cho 1 câu $W$ gồm $n$ từ: $w_1, w_2, .., w_n$.\n",
    "\n",
    "- Xác suất 1 câu (1 chuỗi từ): $P(W) = P(w_1, w_2, .., w_n)$\n",
    "- Xác suất từ tiếp theo trong 1 câu (1 chuỗi từ), cho trước $n - 1$ từ trước đó: $P(w_n | w_1, w_2, .., w_{n - 1})$\n",
    "\n",
    "Mô hình $P(W)$ hay $P(w_n | w_1, w_2, .., w_{n - 1})$ gọi là **Mô hình ngôn ngữ**"
   ]
  },
  {
   "cell_type": "markdown",
   "id": "ca596e1f",
   "metadata": {},
   "source": [
    "### Chain rule:\n",
    "- 2 biến: $P(x_1, x_2) = P(x_1)P(x_2 | x_1)$\n",
    "- 3 biến: $P(x_1, x_2, x_3) = P(x_1)P(x_2 | x_1)P(x_3 | x_1x_2)$\n",
    "- 4 biến: $P(x_1, x_2, x_3, x_4) = P(x_1)P(x_2 | x_1)P(x_3 | x_1x_2)P(x_4 | x_1x_2x_3)$\n",
    "- $n$ biến: $P(x_1, x_2, .., x_n) = P(x_1)P(x_2 | x_1) .. P(x_n | x_1 .. x_{n - 1})$\n",
    "\n",
    "Nhận xét: câu càng dài thì số phép tính càng nhiều, vậy cần có cách pre-calculate và chỉ tái sử dụng các giá trị đã tính toán."
   ]
  },
  {
   "cell_type": "markdown",
   "id": "78a72359",
   "metadata": {},
   "source": [
    "Viết lại chain rule dưới dạng công thức toán:\n",
    "\n",
    "$\\displaystyle P(w_1w_2..w_n) = \\prod_{i} P(w_i | w_1w_2..w_{n - 1})$\n",
    "\n",
    "Ví dụ: $P(\\text{ngôn ngữ tự nhiên}) = P(\\text{ngôn})P(\\text{ngữ} | \\text{ngôn})P(\\text{tự} | \\text{ngôn ngữ}) P(\\text{nhiên} | \\text{ngôn ngữ tự})$\n",
    "\n",
    "Một ước lượng đơn giản: $P(w) = \\frac{\\text{count}(w)}{|W|}$. Khi đó:\n",
    "- $ P(\\text{ngôn}) = \\frac{\\text{count}(\\text{ngôn})}{|\\text{ngôn ngữ tự nhiên}|} = \\frac{1}{4}$\n",
    "- $ P(\\text{ngôn} | \\text{ngữ}) = \\frac{\\text{count}(\\text{ngôn})}{\\text{count}(\\text{ngữ})} = 1$\n",
    "- .."
   ]
  },
  {
   "cell_type": "markdown",
   "id": "117d7b2b",
   "metadata": {},
   "source": [
    "## Giả thuyết Markov\n",
    "- $P(\\text{nhiên} | \\text{ngôn ngữ tự}) \\approx P(\\text{nhiên} | \\text{tự}), n = 2$ hoặc\n",
    "- $P(\\text{nhiên} | \\text{ngôn ngữ tự}) \\approx P(\\text{nhiên} | \\text{ngữ tự}), n = 3$"
   ]
  },
  {
   "cell_type": "markdown",
   "id": "8f1497fe",
   "metadata": {},
   "source": [
    "## n-gram\n",
    "- Mô hình unigram (1-gram): $\\displaystyle P(w_1w_2..w_n) \\approx \\prod_{i} P(w_i)$. Nhận xét: từ có xác suất cao là lấy, không có phụ thuộc từ đứng trước.\n",
    "- Mô hình bigram (2-gram): $\\displaystyle P(w_i | w_1w_2..w_{i - 1}) \\approx \\prod_{i} P(w_i | w_{i - 1})$. Nhận xét: từ có xác suất cao là lấy, không có phụ thuộc từ đứng trước.\n",
    "- Mở rộng: trigram, 4-gram, 5-gram, ..etc\n",
    "\n",
    "Nhận xét:\n",
    "- Ảnh hưởng của phụ thuộc xa (long-distance dependency).\n",
    "- Hoạt động tốt trong đa số trường hợp.\n",
    "- $n$ càng lớn thì số phép tính càng lớn."
   ]
  },
  {
   "cell_type": "code",
   "execution_count": null,
   "id": "5856685d",
   "metadata": {},
   "outputs": [],
   "source": []
  }
 ],
 "metadata": {
  "kernelspec": {
   "display_name": "Python 3 (ipykernel)",
   "language": "python",
   "name": "python3"
  },
  "language_info": {
   "codemirror_mode": {
    "name": "ipython",
    "version": 3
   },
   "file_extension": ".py",
   "mimetype": "text/x-python",
   "name": "python",
   "nbconvert_exporter": "python",
   "pygments_lexer": "ipython3",
   "version": "3.9.7"
  }
 },
 "nbformat": 4,
 "nbformat_minor": 5
}
